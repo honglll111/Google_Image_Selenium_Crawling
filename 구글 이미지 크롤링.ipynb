{
 "cells": [
  {
   "cell_type": "code",
   "execution_count": 7,
   "id": "f341c031-975b-4eb7-8c85-751e882451f8",
   "metadata": {},
   "outputs": [],
   "source": [
    "from selenium import webdriver\n",
    "from selenium.webdriver import ChromeOptions\n",
    "from selenium.webdriver.common.by import By\n",
    "from selenium.webdriver.common.keys import Keys\n",
    "import time"
   ]
  },
  {
   "cell_type": "code",
   "execution_count": 8,
   "id": "2f509c76-d1a8-4857-9952-0dfa4c8c12ff",
   "metadata": {},
   "outputs": [],
   "source": [
    "# 크롬 웹드라이버 실행, 브라우저의 창을 최대화로 설정\n",
    "options = ChromeOptions()\n",
    "options.add_argument(\"--start-maximized\")\n",
    "driver = webdriver.Chrome(options=options)"
   ]
  },
  {
   "cell_type": "code",
   "execution_count": 9,
   "id": "d8fa4dcb-507f-4de2-97f8-aa003ee598a1",
   "metadata": {},
   "outputs": [],
   "source": [
    "# 구글 이미지로 이동\n",
    "url = 'https://images.google.com/'  \n",
    "driver.get(url)"
   ]
  },
  {
   "cell_type": "code",
   "execution_count": 10,
   "id": "705ee2f6-08e7-4b6d-8fd1-b0151ab94458",
   "metadata": {},
   "outputs": [],
   "source": [
    "# 원하는 이미지 검색\n",
    "input_element = driver.find_element(By.CLASS_NAME, \"gLFyf\")\n",
    "input_element.send_keys(\"유재석\" + Keys.ENTER)  # 유재석 대신 입력하고 싶은 것을 입력"
   ]
  },
  {
   "cell_type": "code",
   "execution_count": 11,
   "id": "ecd127de-cc09-49f2-9866-683acfd7cb02",
   "metadata": {},
   "outputs": [],
   "source": [
    "# 스크롤 다운\n",
    "elem = driver.find_element(By.TAG_NAME, 'body')\n",
    "for i in range(60):\n",
    "    elem.send_keys(Keys.PAGE_DOWN)\n",
    "    time.sleep(1)\n",
    "\n",
    "# 더보기 처리\n",
    "try:\n",
    "    view_more_button = WebDriverWait(driver, 10).utill(EC.element_to_be_clickable((By.CLASS_NAME, 'mye4qd')))\n",
    "    view_more_button.click()\n",
    "    for i in range(80):\n",
    "        elem.send_keys(Keys.PAGE_DOWN)\n",
    "        time.sleep(3)\n",
    "except:\n",
    "    pass"
   ]
  },
  {
   "cell_type": "code",
   "execution_count": 17,
   "id": "ce570c5f-856f-41e6-b754-e9cb0874adc3",
   "metadata": {},
   "outputs": [
    {
     "name": "stdout",
     "output_type": "stream",
     "text": [
      "찾은 이미지의 개수:  800\n"
     ]
    }
   ],
   "source": [
    "# 이미지 다운로드하기\n",
    "# 신문사 로고의 경우 YQ4gaf zr758c라 이것도 수집되어, 사진만 추출할 수 있도록 코드 추가함\n",
    "images = driver.find_elements(By.CSS_SELECTOR, \".YQ4gaf\")\n",
    "images = [img for img in images if img.get_attribute(\"class\") == \"YQ4gaf\"]  \n",
    "\n",
    "links = []\n",
    "for image in images:\n",
    "    src = image.get_attribute('src')\n",
    "    if src is None:\n",
    "        src = image.get_attribute('data-src')  # data-src도 확인\n",
    "    if src:\n",
    "        links.append(src)\n",
    "        \n",
    "print('찾은 이미지의 개수: ', len(links))"
   ]
  },
  {
   "cell_type": "code",
   "execution_count": 18,
   "id": "ea661e6e-57ed-42e0-a608-659163038045",
   "metadata": {},
   "outputs": [
    {
     "name": "stdout",
     "output_type": "stream",
     "text": [
      "다운로드를 완료하였습니다.\n"
     ]
    }
   ],
   "source": [
    "# 경로 설정하기\n",
    "import urllib.request\n",
    "import os\n",
    "\n",
    "save_path = \"D:\\\\jaesok\"  # D 드라이브에 폴더 생성\n",
    "os.makedirs(save_path, exist_ok=True)  # 폴더가 없으면 생성\n",
    "\n",
    "for k, i in enumerate(links):\n",
    "    url = i\n",
    "    file_path = os.path.join(save_path, f\"jaesok{k}.jpg\")  # D:\\jaesok\\jaesok0.jpg 형태로 저장\n",
    "    urllib.request.urlretrieve(url, file_path)\n",
    "\n",
    "print('다운로드를 완료하였습니다.')"
   ]
  }
 ],
 "metadata": {
  "kernelspec": {
   "display_name": "Python 3 (ipykernel)",
   "language": "python",
   "name": "python3"
  },
  "language_info": {
   "codemirror_mode": {
    "name": "ipython",
    "version": 3
   },
   "file_extension": ".py",
   "mimetype": "text/x-python",
   "name": "python",
   "nbconvert_exporter": "python",
   "pygments_lexer": "ipython3",
   "version": "3.11.5"
  }
 },
 "nbformat": 4,
 "nbformat_minor": 5
}
